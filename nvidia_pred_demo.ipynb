{
 "cells": [
  {
   "cell_type": "code",
   "execution_count": 6,
   "id": "27b08d9a",
   "metadata": {},
   "outputs": [],
   "source": [
    "import pandas as pd"
   ]
  },
  {
   "cell_type": "code",
   "execution_count": 23,
   "id": "d59d55c4",
   "metadata": {},
   "outputs": [
    {
     "data": {
      "text/html": [
       "<div>\n",
       "<style scoped>\n",
       "    .dataframe tbody tr th:only-of-type {\n",
       "        vertical-align: middle;\n",
       "    }\n",
       "\n",
       "    .dataframe tbody tr th {\n",
       "        vertical-align: top;\n",
       "    }\n",
       "\n",
       "    .dataframe thead th {\n",
       "        text-align: right;\n",
       "    }\n",
       "</style>\n",
       "<table border=\"1\" class=\"dataframe\">\n",
       "  <thead>\n",
       "    <tr style=\"text-align: right;\">\n",
       "      <th></th>\n",
       "      <th>Unnamed: 0</th>\n",
       "      <th>open</th>\n",
       "      <th>high</th>\n",
       "      <th>low</th>\n",
       "      <th>close</th>\n",
       "      <th>adjclose</th>\n",
       "      <th>volume</th>\n",
       "    </tr>\n",
       "  </thead>\n",
       "  <tbody>\n",
       "    <tr>\n",
       "      <th>count</th>\n",
       "      <td>2369.000000</td>\n",
       "      <td>2369.000000</td>\n",
       "      <td>2369.000000</td>\n",
       "      <td>2369.000000</td>\n",
       "      <td>2369.000000</td>\n",
       "      <td>2369.000000</td>\n",
       "      <td>2.369000e+03</td>\n",
       "    </tr>\n",
       "    <tr>\n",
       "      <th>mean</th>\n",
       "      <td>1184.000000</td>\n",
       "      <td>14.188477</td>\n",
       "      <td>14.445906</td>\n",
       "      <td>13.919531</td>\n",
       "      <td>14.197878</td>\n",
       "      <td>14.169242</td>\n",
       "      <td>4.787526e+08</td>\n",
       "    </tr>\n",
       "    <tr>\n",
       "      <th>std</th>\n",
       "      <td>684.015716</td>\n",
       "      <td>18.683473</td>\n",
       "      <td>19.020099</td>\n",
       "      <td>18.315670</td>\n",
       "      <td>18.691694</td>\n",
       "      <td>18.697431</td>\n",
       "      <td>2.559874e+08</td>\n",
       "    </tr>\n",
       "    <tr>\n",
       "      <th>min</th>\n",
       "      <td>0.000000</td>\n",
       "      <td>0.481250</td>\n",
       "      <td>0.487500</td>\n",
       "      <td>0.473500</td>\n",
       "      <td>0.478500</td>\n",
       "      <td>0.459453</td>\n",
       "      <td>5.244800e+07</td>\n",
       "    </tr>\n",
       "    <tr>\n",
       "      <th>25%</th>\n",
       "      <td>592.000000</td>\n",
       "      <td>2.998250</td>\n",
       "      <td>3.045500</td>\n",
       "      <td>2.947500</td>\n",
       "      <td>3.032250</td>\n",
       "      <td>2.992067</td>\n",
       "      <td>3.188000e+08</td>\n",
       "    </tr>\n",
       "    <tr>\n",
       "      <th>50%</th>\n",
       "      <td>1184.000000</td>\n",
       "      <td>6.191500</td>\n",
       "      <td>6.262750</td>\n",
       "      <td>6.091500</td>\n",
       "      <td>6.178250</td>\n",
       "      <td>6.129900</td>\n",
       "      <td>4.277960e+08</td>\n",
       "    </tr>\n",
       "    <tr>\n",
       "      <th>75%</th>\n",
       "      <td>1776.000000</td>\n",
       "      <td>17.915001</td>\n",
       "      <td>18.243999</td>\n",
       "      <td>17.634001</td>\n",
       "      <td>17.983999</td>\n",
       "      <td>17.963766</td>\n",
       "      <td>5.745880e+08</td>\n",
       "    </tr>\n",
       "    <tr>\n",
       "      <th>max</th>\n",
       "      <td>2368.000000</td>\n",
       "      <td>114.650002</td>\n",
       "      <td>115.819000</td>\n",
       "      <td>110.901001</td>\n",
       "      <td>114.824997</td>\n",
       "      <td>114.815567</td>\n",
       "      <td>3.692928e+09</td>\n",
       "    </tr>\n",
       "  </tbody>\n",
       "</table>\n",
       "</div>"
      ],
      "text/plain": [
       "        Unnamed: 0         open         high          low        close  \\\n",
       "count  2369.000000  2369.000000  2369.000000  2369.000000  2369.000000   \n",
       "mean   1184.000000    14.188477    14.445906    13.919531    14.197878   \n",
       "std     684.015716    18.683473    19.020099    18.315670    18.691694   \n",
       "min       0.000000     0.481250     0.487500     0.473500     0.478500   \n",
       "25%     592.000000     2.998250     3.045500     2.947500     3.032250   \n",
       "50%    1184.000000     6.191500     6.262750     6.091500     6.178250   \n",
       "75%    1776.000000    17.915001    18.243999    17.634001    17.983999   \n",
       "max    2368.000000   114.650002   115.819000   110.901001   114.824997   \n",
       "\n",
       "          adjclose        volume  \n",
       "count  2369.000000  2.369000e+03  \n",
       "mean     14.169242  4.787526e+08  \n",
       "std      18.697431  2.559874e+08  \n",
       "min       0.459453  5.244800e+07  \n",
       "25%       2.992067  3.188000e+08  \n",
       "50%       6.129900  4.277960e+08  \n",
       "75%      17.963766  5.745880e+08  \n",
       "max     114.815567  3.692928e+09  "
      ]
     },
     "execution_count": 23,
     "metadata": {},
     "output_type": "execute_result"
    }
   ],
   "source": [
    "#df = pd.read_csv(\"nvidia_stock_2015_to_2024.csv\", names = ['index','date','open','high','low','close','adjclose','volume'])\n",
    "#print(df.head())\n",
    "df = pd.read_csv(\"nvidia_stock_2015_to_2024.csv\", parse_dates=[\"date\"])\n",
    "\n",
    "df.set_index(\"date\", inplace = True)\n",
    "\n",
    "df.describe()\n"
   ]
  },
  {
   "cell_type": "code",
   "execution_count": 24,
   "id": "92ac1227",
   "metadata": {},
   "outputs": [
    {
     "name": "stdout",
     "output_type": "stream",
     "text": [
      "            Unnamed: 0     open     high      low    close  adjclose  \\\n",
      "date                                                                   \n",
      "2015-01-02           0  0.50325  0.50700  0.49525  0.50325  0.483218   \n",
      "2015-01-05           1  0.50325  0.50475  0.49250  0.49475  0.475056   \n",
      "2015-01-06           2  0.49550  0.49600  0.47925  0.47975  0.460654   \n",
      "2015-01-07           3  0.48325  0.48750  0.47700  0.47850  0.459453   \n",
      "2015-01-08           4  0.48400  0.49950  0.48375  0.49650  0.476737   \n",
      "\n",
      "               volume  \n",
      "date                   \n",
      "2015-01-02  113680000  \n",
      "2015-01-05  197952000  \n",
      "2015-01-06  197764000  \n",
      "2015-01-07  321808000  \n",
      "2015-01-08  283780000  \n"
     ]
    }
   ],
   "source": [
    "print(df.head())"
   ]
  },
  {
   "cell_type": "code",
   "execution_count": 25,
   "id": "da58a45a",
   "metadata": {},
   "outputs": [
    {
     "name": "stdout",
     "output_type": "stream",
     "text": [
      "              close   target\n",
      "date                        \n",
      "2015-01-02  0.50325  0.49475\n",
      "2015-01-05  0.49475  0.47975\n",
      "2015-01-06  0.47975  0.47850\n",
      "2015-01-07  0.47850  0.49650\n",
      "2015-01-08  0.49650  0.49850\n"
     ]
    }
   ],
   "source": [
    "df =df[[\"close\"]]\n",
    "df[\"target\"] = df[\"close\"].shift(-1)\n",
    "df.dropna(inplace=True)\n",
    "print(df.head())"
   ]
  },
  {
   "cell_type": "code",
   "execution_count": 27,
   "id": "87a3a27b",
   "metadata": {},
   "outputs": [],
   "source": [
    "from sklearn.model_selection import train_test_split\n",
    "\n",
    "x = df[[\"close\"]]\n",
    "y = df[\"target\"]\n",
    "\n",
    "split_index = int(len(df) * 0.8)\n",
    "\n",
    "x_train, x_test = x.iloc[:split_index], x.iloc[split_index:]\n",
    "y_train, y_test = y.iloc[:split_index], y.iloc[split_index:]"
   ]
  },
  {
   "cell_type": "code",
   "execution_count": 28,
   "id": "131dbff4",
   "metadata": {},
   "outputs": [
    {
     "name": "stdout",
     "output_type": "stream",
     "text": [
      "RMSE: 1.513014\n"
     ]
    }
   ],
   "source": [
    "from sklearn.linear_model import LinearRegression\n",
    "from sklearn.metrics import mean_squared_error\n",
    "\n",
    "model = LinearRegression()\n",
    "model.fit(x_train, y_train)\n",
    "y_pred = model.predict(x_test)\n",
    "\n",
    "rmse = mean_squared_error(y_test, y_pred, squared=False)\n",
    "print(f\"RMSE: {rmse:.6f}\")"
   ]
  },
  {
   "cell_type": "code",
   "execution_count": 29,
   "id": "fe9796e6",
   "metadata": {},
   "outputs": [
    {
     "data": {
      "image/png": "[encoded data removed]",
      "text/plain": [
       "<Figure size 864x432 with 1 Axes>"
      ]
     },
     "metadata": {
      "needs_background": "light"
     },
     "output_type": "display_data"
    }
   ],
   "source": [
    "import matplotlib.pyplot as plt\n",
    "\n",
    "plt.figure(figsize=(12,6))\n",
    "plt.plot(y_test.index, y_test, label=\"Actual\")\n",
    "plt.plot(y_test.index, y_pred, label=\"Predicted\", alpha=0.7)\n",
    "plt.title(\"NVIDIA Stock Price Prediction (1 day ahead)\")\n",
    "plt.legend()\n",
    "plt.grid()\n",
    "plt.tight_layout()\n",
    "plt.show()"
   ]
  },
  {
   "cell_type": "code",
   "execution_count": null,
   "id": "fd47b777",
   "metadata": {},
   "outputs": [],
   "source": []
  },
  {
   "cell_type": "code",
   "execution_count": null,
   "id": "ec3538fc",
   "metadata": {},
   "outputs": [],
   "source": []
  }
 ],
 "metadata": {
  "kernelspec": {
   "display_name": "Python 3 (ipykernel)",
   "language": "python",
   "name": "python3"
  },
  "language_info": {
   "codemirror_mode": {
    "name": "ipython",
    "version": 3
   },
   "file_extension": ".py",
   "mimetype": "text/x-python",
   "name": "python",
   "nbconvert_exporter": "python",
   "pygments_lexer": "ipython3",
   "version": "3.9.7"
  }
 },
 "nbformat": 4,
 "nbformat_minor": 5
}
